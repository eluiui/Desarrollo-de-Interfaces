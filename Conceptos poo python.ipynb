{
 "cells": [
  {
   "cell_type": "raw",
   "id": "99021ca7-1d22-469d-9350-27671e7b7f84",
   "metadata": {},
   "source": [
    "1. Crear dos clases, Libro y Autor, que estén relacionadas. La clase Libro debe tener un atributo\n",
    "autor, que sea una instancia de la clase Autor."
   ]
  },
  {
   "cell_type": "code",
   "execution_count": null,
   "id": "6bb79cd1-bb86-45b3-a2cd-0a87b2c6e715",
   "metadata": {},
   "outputs": [],
   "source": []
  },
  {
   "cell_type": "raw",
   "id": "c5acfc18-87cc-4751-a932-ae3f780a8acb",
   "metadata": {},
   "source": [
    "2. Crear una clas CuentaBancaria que tenga atributos como titular, saldo y\n",
    "dos método para depositar y retirar dinero. Si no tiene saldo debe mostrar el\n",
    "mensaje “saldo insuficiente”. Establece un menú"
   ]
  },
  {
   "cell_type": "code",
   "execution_count": 9,
   "id": "e41d9f04-de79-46a1-a727-57d9d0fc93fe",
   "metadata": {
    "tags": []
   },
   "outputs": [
    {
     "name": "stdout",
     "output_type": "stream",
     "text": [
      "jesu saldo: 1000000000\n",
      "jesu saldo: 2000000000\n",
      "jesu saldo: 1999999000\n"
     ]
    }
   ],
   "source": [
    "class CuentaBancaria:\n",
    "    def __init__(self, titular, saldo):\n",
    "        self.titular = titular\n",
    "        self.saldo = saldo\n",
    "        \n",
    "    def retirar(self, retiro):\n",
    "        if (self.saldo-retiro) < 0:\n",
    "            print(\"saldo insuficiente\")\n",
    "        else:\n",
    "            self.saldo -= retiro\n",
    "        \n",
    "    def abonar(self, abono):\n",
    "        self.saldo += abono\n",
    "        \n",
    "def main():\n",
    "    cuentaBancaria = CuentaBancaria(\"jesu\", 1000000000)\n",
    "    print(cuentaBancaria.titular+\" saldo: \"+str(cuentaBancaria.saldo))\n",
    "    \n",
    "    cuentaBancaria.abonar(1000000000)\n",
    "    \n",
    "    print(cuentaBancaria.titular+\" saldo: \"+str(cuentaBancaria.saldo))\n",
    "    \n",
    "    cuentaBancaria.retirar(1000)\n",
    "    \n",
    "    print(cuentaBancaria.titular+\" saldo: \"+str(cuentaBancaria.saldo))\n",
    "    \n",
    "if __name__ == \"__main__\":\n",
    "    main()"
   ]
  },
  {
   "cell_type": "raw",
   "id": "8fcdc3d6-f846-4424-b2f7-3cb9da8a059e",
   "metadata": {},
   "source": [
    "3. Diseña una agenda de contacto con una clase Contacto que represente a una\n",
    "persona con atributos como nombre, dirección de correo electrónico y número de\n",
    "teléfono. Luego, crea una clase Agenda que almacene una lista de contactos y\n",
    "ofrezca métodos para agregar, eliminar y buscar contactos. Utiliza\n",
    "encapsulamiento para proteger los datos de contacto. Establece un menú."
   ]
  },
  {
   "cell_type": "code",
   "execution_count": 1,
   "id": "b8d74a5f-3590-41a5-a480-86ab2c72cb8d",
   "metadata": {},
   "outputs": [
    {
     "name": "stdout",
     "output_type": "stream",
     "text": [
      "Crea tres contactos\n"
     ]
    },
    {
     "name": "stdin",
     "output_type": "stream",
     "text": [
      "Nombre:  pepe\n",
      "Telefono:  1232342342\n"
     ]
    },
    {
     "ename": "KeyboardInterrupt",
     "evalue": "Interrupted by user",
     "output_type": "error",
     "traceback": [
      "\u001b[0;31m---------------------------------------------------------------------------\u001b[0m",
      "\u001b[0;31mKeyboardInterrupt\u001b[0m                         Traceback (most recent call last)",
      "Cell \u001b[0;32mIn[1], line 41\u001b[0m\n\u001b[1;32m     38\u001b[0m     mostrar(agenda)\n\u001b[1;32m     40\u001b[0m \u001b[38;5;28;01mif\u001b[39;00m \u001b[38;5;18m__name__\u001b[39m \u001b[38;5;241m==\u001b[39m \u001b[38;5;124m\"\u001b[39m\u001b[38;5;124m__main__\u001b[39m\u001b[38;5;124m\"\u001b[39m:\n\u001b[0;32m---> 41\u001b[0m     main()\n",
      "Cell \u001b[0;32mIn[1], line 37\u001b[0m, in \u001b[0;36mmain\u001b[0;34m()\u001b[0m\n\u001b[1;32m     36\u001b[0m \u001b[38;5;28;01mdef\u001b[39;00m \u001b[38;5;21mmain\u001b[39m():\n\u001b[0;32m---> 37\u001b[0m     agenda \u001b[38;5;241m=\u001b[39m menu()\n\u001b[1;32m     38\u001b[0m     mostrar(agenda)\n",
      "Cell \u001b[0;32mIn[1], line 26\u001b[0m, in \u001b[0;36mmenu\u001b[0;34m()\u001b[0m\n\u001b[1;32m     24\u001b[0m nombre \u001b[38;5;241m=\u001b[39m \u001b[38;5;28minput\u001b[39m(\u001b[38;5;124m\"\u001b[39m\u001b[38;5;124mNombre: \u001b[39m\u001b[38;5;124m\"\u001b[39m)\n\u001b[1;32m     25\u001b[0m telefono \u001b[38;5;241m=\u001b[39m \u001b[38;5;28minput\u001b[39m(\u001b[38;5;124m\"\u001b[39m\u001b[38;5;124mTelefono: \u001b[39m\u001b[38;5;124m\"\u001b[39m)\n\u001b[0;32m---> 26\u001b[0m email \u001b[38;5;241m=\u001b[39m \u001b[38;5;28minput\u001b[39m(\u001b[38;5;124m\"\u001b[39m\u001b[38;5;124mEmail: \u001b[39m\u001b[38;5;124m\"\u001b[39m)\n\u001b[1;32m     27\u001b[0m direccion \u001b[38;5;241m=\u001b[39m \u001b[38;5;28minput\u001b[39m(\u001b[38;5;124m\"\u001b[39m\u001b[38;5;124mDireccion \u001b[39m\u001b[38;5;124m\"\u001b[39m)\n\u001b[1;32m     28\u001b[0m contacto \u001b[38;5;241m=\u001b[39m Contacto(nombre, telefono, email, direccion)\n",
      "File \u001b[0;32m/opt/conda/lib/python3.11/site-packages/ipykernel/kernelbase.py:1175\u001b[0m, in \u001b[0;36mKernel.raw_input\u001b[0;34m(self, prompt)\u001b[0m\n\u001b[1;32m   1171\u001b[0m \u001b[38;5;28;01mif\u001b[39;00m \u001b[38;5;129;01mnot\u001b[39;00m \u001b[38;5;28mself\u001b[39m\u001b[38;5;241m.\u001b[39m_allow_stdin:\n\u001b[1;32m   1172\u001b[0m     \u001b[38;5;28;01mraise\u001b[39;00m StdinNotImplementedError(\n\u001b[1;32m   1173\u001b[0m         \u001b[38;5;124m\"\u001b[39m\u001b[38;5;124mraw_input was called, but this frontend does not support input requests.\u001b[39m\u001b[38;5;124m\"\u001b[39m\n\u001b[1;32m   1174\u001b[0m     )\n\u001b[0;32m-> 1175\u001b[0m \u001b[38;5;28;01mreturn\u001b[39;00m \u001b[38;5;28mself\u001b[39m\u001b[38;5;241m.\u001b[39m_input_request(\n\u001b[1;32m   1176\u001b[0m     \u001b[38;5;28mstr\u001b[39m(prompt),\n\u001b[1;32m   1177\u001b[0m     \u001b[38;5;28mself\u001b[39m\u001b[38;5;241m.\u001b[39m_parent_ident[\u001b[38;5;124m\"\u001b[39m\u001b[38;5;124mshell\u001b[39m\u001b[38;5;124m\"\u001b[39m],\n\u001b[1;32m   1178\u001b[0m     \u001b[38;5;28mself\u001b[39m\u001b[38;5;241m.\u001b[39mget_parent(\u001b[38;5;124m\"\u001b[39m\u001b[38;5;124mshell\u001b[39m\u001b[38;5;124m\"\u001b[39m),\n\u001b[1;32m   1179\u001b[0m     password\u001b[38;5;241m=\u001b[39m\u001b[38;5;28;01mFalse\u001b[39;00m,\n\u001b[1;32m   1180\u001b[0m )\n",
      "File \u001b[0;32m/opt/conda/lib/python3.11/site-packages/ipykernel/kernelbase.py:1217\u001b[0m, in \u001b[0;36mKernel._input_request\u001b[0;34m(self, prompt, ident, parent, password)\u001b[0m\n\u001b[1;32m   1214\u001b[0m             \u001b[38;5;28;01mbreak\u001b[39;00m\n\u001b[1;32m   1215\u001b[0m \u001b[38;5;28;01mexcept\u001b[39;00m \u001b[38;5;167;01mKeyboardInterrupt\u001b[39;00m:\n\u001b[1;32m   1216\u001b[0m     \u001b[38;5;66;03m# re-raise KeyboardInterrupt, to truncate traceback\u001b[39;00m\n\u001b[0;32m-> 1217\u001b[0m     \u001b[38;5;28;01mraise\u001b[39;00m \u001b[38;5;167;01mKeyboardInterrupt\u001b[39;00m(\u001b[38;5;124m\"\u001b[39m\u001b[38;5;124mInterrupted by user\u001b[39m\u001b[38;5;124m\"\u001b[39m) \u001b[38;5;28;01mfrom\u001b[39;00m \u001b[38;5;28;01mNone\u001b[39;00m\n\u001b[1;32m   1218\u001b[0m \u001b[38;5;28;01mexcept\u001b[39;00m \u001b[38;5;167;01mException\u001b[39;00m:\n\u001b[1;32m   1219\u001b[0m     \u001b[38;5;28mself\u001b[39m\u001b[38;5;241m.\u001b[39mlog\u001b[38;5;241m.\u001b[39mwarning(\u001b[38;5;124m\"\u001b[39m\u001b[38;5;124mInvalid Message:\u001b[39m\u001b[38;5;124m\"\u001b[39m, exc_info\u001b[38;5;241m=\u001b[39m\u001b[38;5;28;01mTrue\u001b[39;00m)\n",
      "\u001b[0;31mKeyboardInterrupt\u001b[0m: Interrupted by user"
     ]
    }
   ],
   "source": [
    "class Contacto:\n",
    "    def __init__(self, nombre, telefono, email, direccion):\n",
    "        self.nombre = nombre\n",
    "        self.telefono = telefono\n",
    "        self.email = email\n",
    "        self.direccion = direccion\n",
    "\n",
    "class Agenda:\n",
    "    lista = []\n",
    "    \n",
    "    def agregar(self, contacto):\n",
    "        self.lista.append(contacto)\n",
    "    \n",
    "    def eliminar(self, contacto):\n",
    "        if contacto in self.lista:\n",
    "            self.lista.remove(contacto)\n",
    "        else:\n",
    "            print(\"el contacto no esta en la agenda\")\n",
    "\n",
    "def menu():\n",
    "    agenda = Agenda()\n",
    "    print(\"Crea tres contactos\")\n",
    "    for i in range(0, 3):\n",
    "        nombre = input(\"Nombre: \")\n",
    "        telefono = input(\"Telefono: \")\n",
    "        email = input(\"Email: \")\n",
    "        direccion = input(\"Direccion \")\n",
    "        contacto = Contacto(nombre, telefono, email, direccion)\n",
    "        agenda.agregar(contacto)\n",
    "    return agenda\n",
    "\n",
    "def mostrar(agenda):\n",
    "    for contacto in agenda.lista:\n",
    "        print(\"nombre: \"+contacto.nombre+\" telefono: \"+contacto.telefono+\" email: \"+contacto.email+\" direccion: \"+contacto.direccion)\n",
    "\n",
    "def main():\n",
    "    agenda = menu()\n",
    "    mostrar(agenda)\n",
    "\n",
    "if __name__ == \"__main__\":\n",
    "    main()"
   ]
  },
  {
   "cell_type": "raw",
   "id": "1c31e193-0bf4-4dc7-af1b-48cf2b64e8be",
   "metadata": {},
   "source": [
    "4. Diseña un sistema de clases para simular una tienda. Debes tener clases\n",
    "para representar productos, carritos de compra y clientes. Los productos\n",
    "deben tener atributos como nombre, precio y cantidad en stock. Los\n",
    "clientes deben poder agregar productos a su carrito de compra y realizar\n",
    "compras. El carrito de compra debe mantener un registro de los productos\n",
    "y calcular el total de la compra"
   ]
  },
  {
   "cell_type": "code",
   "execution_count": null,
   "id": "79ca8305-ba6f-42c1-a5b0-7449511e8d51",
   "metadata": {},
   "outputs": [],
   "source": []
  },
  {
   "cell_type": "raw",
   "id": "db90e272-b011-4fdf-9374-4437c1a52b44",
   "metadata": {},
   "source": [
    "5. Crear una clase base llamada Vehiculo, que tiene atributos comunes como marca,\n",
    "modelo, año y precio. Luego, creamos dos clases derivadas, Coche y Motocicleta, que\n",
    "heredan de la clase base Vehiculo y agregan atributos adicionales específicos para cada\n",
    "tipo de vehículo (puertas y cilindrada).\n",
    "Cada clase derivada tiene su propio método obtener_informacion, que llama al método\n",
    "de la clase base obtener_informacion utilizando super() y luego agrega la información\n",
    "específica del tipo de vehículo. Esto demuestra cómo se puede utilizar la herencia para\n",
    "reutilizar y extender funcionalidad en una jerarquía de clases."
   ]
  },
  {
   "cell_type": "code",
   "execution_count": null,
   "id": "4d499e03-d5f3-44c8-9626-79b98fc040d3",
   "metadata": {},
   "outputs": [],
   "source": []
  },
  {
   "cell_type": "raw",
   "id": "5db1a1f6-204f-4d2b-864f-783d242bc665",
   "metadata": {},
   "source": [
    "6. Crear un personaje que puede luchar contra enemigos. En este juego, el jugador tiene un\n",
    "personaje con estadísticas y puede elegir luchar contra enemigos aleatorios. El objetivo es derrotar a\n",
    "los enemigos y ganar experiencia.\n",
    "Este juego permite a un jugador controlar a un personaje que lucha contra enemigos\n",
    "aleatorios. El jugador puede atacar o huir durante los encuentros. El juego sigue hasta que\n",
    "el personaje o todos los enemigos sean derrotados. Si el personaje gana suficiente\n",
    "experiencia, se considera que ha ganado el juego. Puedes personalizar los nombres y las\n",
    "estadísticas de los personajes y enemigos para hacer el juego más interesante. "
   ]
  },
  {
   "cell_type": "code",
   "execution_count": 23,
   "id": "cf6d8534-9d7e-44ec-b4a7-3de5be7422b6",
   "metadata": {
    "tags": []
   },
   "outputs": [
    {
     "name": "stdout",
     "output_type": "stream",
     "text": [
      "El siguiente enemigo tendra 51 de vida y 56 de fuerza,\n",
      " Si lo derrotas ganaras 709 de experiencia\n"
     ]
    },
    {
     "name": "stdin",
     "output_type": "stream",
     "text": [
      "Quieres 1-atacar o 2-huir?:  2\n"
     ]
    },
    {
     "name": "stdout",
     "output_type": "stream",
     "text": [
      "El siguiente enemigo tendra 31 de vida y 27 de fuerza,\n",
      " Si lo derrotas ganaras 505 de experiencia\n"
     ]
    },
    {
     "ename": "KeyboardInterrupt",
     "evalue": "Interrupted by user",
     "output_type": "error",
     "traceback": [
      "\u001b[0;31m---------------------------------------------------------------------------\u001b[0m",
      "\u001b[0;31mKeyboardInterrupt\u001b[0m                         Traceback (most recent call last)",
      "Cell \u001b[0;32mIn[23], line 47\u001b[0m\n\u001b[1;32m     43\u001b[0m     menu()\n\u001b[1;32m     46\u001b[0m \u001b[38;5;28;01mif\u001b[39;00m \u001b[38;5;18m__name__\u001b[39m \u001b[38;5;241m==\u001b[39m \u001b[38;5;124m\"\u001b[39m\u001b[38;5;124m__main__\u001b[39m\u001b[38;5;124m\"\u001b[39m:\n\u001b[0;32m---> 47\u001b[0m     main()\n",
      "Cell \u001b[0;32mIn[23], line 43\u001b[0m, in \u001b[0;36mmain\u001b[0;34m()\u001b[0m\n\u001b[1;32m     42\u001b[0m \u001b[38;5;28;01mdef\u001b[39;00m \u001b[38;5;21mmain\u001b[39m():\n\u001b[0;32m---> 43\u001b[0m     menu()\n",
      "Cell \u001b[0;32mIn[23], line 27\u001b[0m, in \u001b[0;36mmenu\u001b[0;34m()\u001b[0m\n\u001b[1;32m     25\u001b[0m enemigo \u001b[38;5;241m=\u001b[39m Enemigo()\n\u001b[1;32m     26\u001b[0m \u001b[38;5;28mprint\u001b[39m(\u001b[38;5;124m\"\u001b[39m\u001b[38;5;124mEl siguiente enemigo tendra \u001b[39m\u001b[38;5;124m\"\u001b[39m\u001b[38;5;241m+\u001b[39m\u001b[38;5;28mstr\u001b[39m(enemigo\u001b[38;5;241m.\u001b[39mvida)\u001b[38;5;241m+\u001b[39m\u001b[38;5;124m\"\u001b[39m\u001b[38;5;124m de vida y \u001b[39m\u001b[38;5;124m\"\u001b[39m\u001b[38;5;241m+\u001b[39m\u001b[38;5;28mstr\u001b[39m(enemigo\u001b[38;5;241m.\u001b[39mfuerza)\u001b[38;5;241m+\u001b[39m\u001b[38;5;124m\"\u001b[39m\u001b[38;5;124m de fuerza,\u001b[39m\u001b[38;5;130;01m\\n\u001b[39;00m\u001b[38;5;124m Si lo derrotas ganaras \u001b[39m\u001b[38;5;124m\"\u001b[39m\u001b[38;5;241m+\u001b[39m\u001b[38;5;28mstr\u001b[39m(enemigo\u001b[38;5;241m.\u001b[39mexperiencia)\u001b[38;5;241m+\u001b[39m\u001b[38;5;124m\"\u001b[39m\u001b[38;5;124m de experiencia\u001b[39m\u001b[38;5;124m\"\u001b[39m)\n\u001b[0;32m---> 27\u001b[0m opcion \u001b[38;5;241m=\u001b[39m \u001b[38;5;28minput\u001b[39m(\u001b[38;5;124m\"\u001b[39m\u001b[38;5;124mQuieres 1-atacar o 2-huir?: \u001b[39m\u001b[38;5;124m\"\u001b[39m)\n\u001b[1;32m     28\u001b[0m \u001b[38;5;28;01mif\u001b[39;00m opcion \u001b[38;5;241m==\u001b[39m \u001b[38;5;28mstr\u001b[39m(\u001b[38;5;241m1\u001b[39m):\n\u001b[1;32m     29\u001b[0m     \u001b[38;5;28;01mwhile\u001b[39;00m(enemigo\u001b[38;5;241m.\u001b[39mvida \u001b[38;5;241m>\u001b[39m \u001b[38;5;241m0\u001b[39m \u001b[38;5;129;01mand\u001b[39;00m jugador\u001b[38;5;241m.\u001b[39mvida \u001b[38;5;241m>\u001b[39m \u001b[38;5;241m0\u001b[39m):\n",
      "File \u001b[0;32m/opt/conda/lib/python3.11/site-packages/ipykernel/kernelbase.py:1175\u001b[0m, in \u001b[0;36mKernel.raw_input\u001b[0;34m(self, prompt)\u001b[0m\n\u001b[1;32m   1171\u001b[0m \u001b[38;5;28;01mif\u001b[39;00m \u001b[38;5;129;01mnot\u001b[39;00m \u001b[38;5;28mself\u001b[39m\u001b[38;5;241m.\u001b[39m_allow_stdin:\n\u001b[1;32m   1172\u001b[0m     \u001b[38;5;28;01mraise\u001b[39;00m StdinNotImplementedError(\n\u001b[1;32m   1173\u001b[0m         \u001b[38;5;124m\"\u001b[39m\u001b[38;5;124mraw_input was called, but this frontend does not support input requests.\u001b[39m\u001b[38;5;124m\"\u001b[39m\n\u001b[1;32m   1174\u001b[0m     )\n\u001b[0;32m-> 1175\u001b[0m \u001b[38;5;28;01mreturn\u001b[39;00m \u001b[38;5;28mself\u001b[39m\u001b[38;5;241m.\u001b[39m_input_request(\n\u001b[1;32m   1176\u001b[0m     \u001b[38;5;28mstr\u001b[39m(prompt),\n\u001b[1;32m   1177\u001b[0m     \u001b[38;5;28mself\u001b[39m\u001b[38;5;241m.\u001b[39m_parent_ident[\u001b[38;5;124m\"\u001b[39m\u001b[38;5;124mshell\u001b[39m\u001b[38;5;124m\"\u001b[39m],\n\u001b[1;32m   1178\u001b[0m     \u001b[38;5;28mself\u001b[39m\u001b[38;5;241m.\u001b[39mget_parent(\u001b[38;5;124m\"\u001b[39m\u001b[38;5;124mshell\u001b[39m\u001b[38;5;124m\"\u001b[39m),\n\u001b[1;32m   1179\u001b[0m     password\u001b[38;5;241m=\u001b[39m\u001b[38;5;28;01mFalse\u001b[39;00m,\n\u001b[1;32m   1180\u001b[0m )\n",
      "File \u001b[0;32m/opt/conda/lib/python3.11/site-packages/ipykernel/kernelbase.py:1217\u001b[0m, in \u001b[0;36mKernel._input_request\u001b[0;34m(self, prompt, ident, parent, password)\u001b[0m\n\u001b[1;32m   1214\u001b[0m             \u001b[38;5;28;01mbreak\u001b[39;00m\n\u001b[1;32m   1215\u001b[0m \u001b[38;5;28;01mexcept\u001b[39;00m \u001b[38;5;167;01mKeyboardInterrupt\u001b[39;00m:\n\u001b[1;32m   1216\u001b[0m     \u001b[38;5;66;03m# re-raise KeyboardInterrupt, to truncate traceback\u001b[39;00m\n\u001b[0;32m-> 1217\u001b[0m     \u001b[38;5;28;01mraise\u001b[39;00m \u001b[38;5;167;01mKeyboardInterrupt\u001b[39;00m(\u001b[38;5;124m\"\u001b[39m\u001b[38;5;124mInterrupted by user\u001b[39m\u001b[38;5;124m\"\u001b[39m) \u001b[38;5;28;01mfrom\u001b[39;00m \u001b[38;5;28;01mNone\u001b[39;00m\n\u001b[1;32m   1218\u001b[0m \u001b[38;5;28;01mexcept\u001b[39;00m \u001b[38;5;167;01mException\u001b[39;00m:\n\u001b[1;32m   1219\u001b[0m     \u001b[38;5;28mself\u001b[39m\u001b[38;5;241m.\u001b[39mlog\u001b[38;5;241m.\u001b[39mwarning(\u001b[38;5;124m\"\u001b[39m\u001b[38;5;124mInvalid Message:\u001b[39m\u001b[38;5;124m\"\u001b[39m, exc_info\u001b[38;5;241m=\u001b[39m\u001b[38;5;28;01mTrue\u001b[39;00m)\n",
      "\u001b[0;31mKeyboardInterrupt\u001b[0m: Interrupted by user"
     ]
    }
   ],
   "source": [
    "import random\n",
    "\n",
    "class Personaje:\n",
    "    def __init__(self):\n",
    "        self.vida = 0\n",
    "        self.experiencia = 0\n",
    "        self.fuerza = 0\n",
    "\n",
    "class Jugador(Personaje):\n",
    "    def __init__(self):\n",
    "        self.vida = 100\n",
    "        self.experiencia = 0\n",
    "        self.fuerza = 100\n",
    "\n",
    "class Enemigo(Personaje):\n",
    "    def __init__(self):\n",
    "        self.vida = random.randint(10, 100)\n",
    "        self.experiencia = random.randint(10, 1000)\n",
    "        self.fuerza = random.randint(10, 100)\n",
    "\n",
    "def menu():\n",
    "    jugador = Jugador()\n",
    "    enemigos = 0\n",
    "    while(jugador.vida > 0 and enemigos < 10):\n",
    "        enemigo = Enemigo()\n",
    "        print(\"El siguiente enemigo tendra \"+str(enemigo.vida)+\" de vida y \"+str(enemigo.fuerza)+\" de fuerza,\\n Si lo derrotas ganaras \"+str(enemigo.experiencia)+\" de experiencia\")\n",
    "        opcion = input(\"Quieres 1-atacar o 2-huir?: \")\n",
    "        if opcion == str(1):\n",
    "            while(enemigo.vida > 0 and jugador.vida > 0):\n",
    "                enemigo.vida -= jugador.fuerza\n",
    "                jugador.vida -= enemigo.fuerza\n",
    "            if enemigo.vida <= 0:\n",
    "                jugador.experiencia += enemigo.experiencia\n",
    "                enemigos += 1\n",
    "                jugador.vida += 10 \n",
    "                print(\"Enemigo derrotado, + 1 de vida,\\nVida actual:\"+str(jugador.vida)+\" Experiencia: \"+str(jugador.experiencia)+\" Enemigos derrotados: \"+str(enemigos)+\"\\n\")\n",
    "            \n",
    "    print(\"Has sido derrotado, experiencia acumulada: \"+str(jugador.experiencia))\n",
    "    if enemigos >= 10:\n",
    "        print(\"Has derrotado a todos los enemigos. Enhorabuena\")\n",
    "\n",
    "def main():\n",
    "    menu()\n",
    "\n",
    "\n",
    "if __name__ == \"__main__\":\n",
    "    main() "
   ]
  },
  {
   "cell_type": "markdown",
   "id": "119f1347-1975-4b41-bbdd-f2fd6369461d",
   "metadata": {},
   "source": [
    "<b>Codigo de ayuda para el 6</b>"
   ]
  },
  {
   "cell_type": "raw",
   "id": "41c84ee4-69af-439d-9062-392081fd890f",
   "metadata": {},
   "source": [
    "def main():\n",
    "     nombre_personaje = input(\"Ingresa el nombre de tu personaje: \")\n",
    "     personaje = Personaje(nombre_personaje)\n",
    "     enemigos = [Enemigo(\"Orco\"), Enemigo(\"Shawk\"), Enemigo(\"Drago\")]\n",
    "     while personaje.esta_vivo():\n",
    "         enemigo = random.choice(enemigos)\n",
    "         print(f\"\\nTe encuentras con un {enemigo.nombre} enemigo.\")\n",
    "             \n",
    "         while enemigo.esta_vivo() and personaje.esta_vivo():\n",
    "             print(\"\\nEstado actual:\")\n",
    "             personaje.mostrar_estado()\n",
    "             enemigo.mostrar_estado()\n",
    "             \n",
    "             accion = input(\"¿Qué deseas hacer? (atacar/huir): \").lower()\n",
    "             \n",
    "             if accion == \"atacar\":\n",
    "                 personaje.atacar(enemigo)\n",
    "                 if enemigo.esta_vivo():\n",
    "                     enemigo.atacar(personaje)\n",
    "             elif accion == \"huir\":\n",
    "                 print(\"Escapas del combate.\")\n",
    "                 break\n",
    "             else:\n",
    "                 print(\"Acción no válida. Ingresa 'atacar' o 'huir'.\")\n",
    "         if enemigo.vida <= 0:\n",
    "             experiencia_ganada = random.randint(10, 20)\n",
    "             personaje.ganar_experiencia(experiencia_ganada)\n",
    "             print(f\"Has derrotado al {enemigo.nombre} enemigo y ganado {experiencia_ganada} puntos de experiencia.\")\n",
    "         else:\n",
    "             print(\"Has sido derrotado por el {enemigo.nombre} enemigo.\")\n",
    "     print(\"\\nEl juego ha terminado.\")\n",
    "     if personaje.experiencia >= 50:\n",
    "         print(f\"{personaje.nombre} ha ganado el juego y se ha convertido en un gran guerrero.\")\n",
    "if __name__ == \"__main__\":\n",
    "    main()"
   ]
  }
 ],
 "metadata": {
  "kernelspec": {
   "display_name": "Python 3 (ipykernel)",
   "language": "python",
   "name": "python3"
  },
  "language_info": {
   "codemirror_mode": {
    "name": "ipython",
    "version": 3
   },
   "file_extension": ".py",
   "mimetype": "text/x-python",
   "name": "python",
   "nbconvert_exporter": "python",
   "pygments_lexer": "ipython3",
   "version": "3.11.3"
  }
 },
 "nbformat": 4,
 "nbformat_minor": 5
}
