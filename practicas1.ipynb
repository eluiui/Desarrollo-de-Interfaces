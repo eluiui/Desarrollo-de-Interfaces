{
 "cells": [
  {
   "cell_type": "markdown",
   "id": "8c06d0ea-fa1f-41f0-b008-913d3a9fc008",
   "metadata": {},
   "source": [
    "#<b>Bloque 1 deejercicios Python </b>"
   ]
  },
  {
   "cell_type": "raw",
   "id": "e9ff0fa5-9de8-46fc-a849-2ae70a62e70b",
   "metadata": {},
   "source": [
    "1. Escribir un programa que alamacene la cadena ¡Hola Mundo! en una variable y luego \n",
    "muestre por pantalla el contenido de la variable"
   ]
  },
  {
   "cell_type": "code",
   "execution_count": 4,
   "id": "12ac4a94-cdb9-4f87-9eb9-7815f646dc41",
   "metadata": {
    "tags": []
   },
   "outputs": [
    {
     "name": "stdout",
     "output_type": "stream",
     "text": [
      "¡Hola Mundo...!\n"
     ]
    }
   ],
   "source": [
    "var = \"¡Hola Mundo...!\"\n",
    "print(var)"
   ]
  },
  {
   "cell_type": "raw",
   "id": "651ce490-b91a-4a87-95d9-d1bad5ea027a",
   "metadata": {},
   "source": [
    "2. Escribir un programa qyue pregunte al usuario por el numero de horas trabajadas y el coste por hora en € con\n",
    "dos decimales. Despues debe mostrar por pantalla la paga que le corresponde en la misma condicion"
   ]
  },
  {
   "cell_type": "code",
   "execution_count": 3,
   "id": "3f9ce728-6da7-4198-89fa-9a4b5e066efd",
   "metadata": {
    "tags": []
   },
   "outputs": [
    {
     "name": "stdin",
     "output_type": "stream",
     "text": [
      "Indique el numero de horas trabajadas por el empleado:  12\n",
      "Indique el coste por hora (o.oo):  7.1\n"
     ]
    },
    {
     "name": "stdout",
     "output_type": "stream",
     "text": [
      "El costre de horas extras es de :  85.2 €\n"
     ]
    }
   ],
   "source": [
    "horas= input('Indique el numero de horas trabajadas por el empleado: ')\n",
    "coste= input('Indique el coste por hora (o.oo): ')\n",
    "total= float(horas)*float(coste)\n",
    "print(\"El costre de horas extras es de : \", round(float(total),2), '€')"
   ]
  },
  {
   "cell_type": "raw",
   "id": "817316a5-61cb-4d3f-bb82-5df89447f174",
   "metadata": {},
   "source": [
    "3. Dados una cifra en segundos haz la transformacion en horas, minutos y segundos, repite el ejercicio\n",
    "de forma inversa, dada una cifra en horas, minutos y segundos, transforma en segundos."
   ]
  },
  {
   "cell_type": "code",
   "execution_count": 6,
   "id": "d1aa1958-982c-4869-92e7-af522b16aa97",
   "metadata": {
    "tags": []
   },
   "outputs": [
    {
     "name": "stdin",
     "output_type": "stream",
     "text": [
      "indique el numero de horas:  12\n",
      "indique los minutos:  12\n",
      "indique los segundos:  12\n"
     ]
    },
    {
     "name": "stdout",
     "output_type": "stream",
     "text": [
      "el numero de segundos es:  43932.0  segundos\n"
     ]
    }
   ],
   "source": [
    "horas= input(\"indique el numero de horas: \")\n",
    "minu= input(\"indique los minutos: \")\n",
    "seg= input(\"indique los segundos: \")\n",
    "print (\"el numero de segundos es: \", float(horas)*60*60 + float(minu)*60 + float(seg), \" segundos\")"
   ]
  },
  {
   "cell_type": "code",
   "execution_count": 7,
   "id": "f340b160-0b22-4304-924f-800fcf30aedf",
   "metadata": {
    "tags": []
   },
   "outputs": [
    {
     "name": "stdin",
     "output_type": "stream",
     "text": [
      "indique el numero de horas:  12\n",
      "indique los minutos:  12\n",
      "indique los segundos:  12\n"
     ]
    },
    {
     "name": "stdout",
     "output_type": "stream",
     "text": [
      "el numero de horas es:  12.203333333333333  horas\n"
     ]
    }
   ],
   "source": [
    "horas= input(\"indique el numero de horas: \")\n",
    "minu= input(\"indique los minutos: \")\n",
    "seg= input(\"indique los segundos: \")\n",
    "print (\"el numero de horas es: \", float(seg)/60/60 + float(minu)/60 + float(horas), \" horas\")"
   ]
  },
  {
   "cell_type": "raw",
   "id": "3333df30-1a36-4d83-a871-5f048b57ec4e",
   "metadata": {},
   "source": [
    "4. Escribir un programa que le pida al usuario su peso (en kg) y estatura (en metros), calcule el iindice de masa \n",
    "corporal yn lo almacena  en una variable  <im> mostrando por pantalla la frase:\n",
    "    tu indice de masa corporal y <im>, con dos decimales,\n",
    "Fórmula: imc = peso/estatura"
   ]
  },
  {
   "cell_type": "code",
   "execution_count": 8,
   "id": "1cd8650a-d5c1-4e46-a79c-d07cbde8886d",
   "metadata": {
    "tags": []
   },
   "outputs": [
    {
     "name": "stdin",
     "output_type": "stream",
     "text": [
      "tu peso KG:  12\n",
      "altura M:  12\n"
     ]
    },
    {
     "name": "stdout",
     "output_type": "stream",
     "text": [
      "tu IMC es:  0\n"
     ]
    }
   ],
   "source": [
    "peso = input(\"tu peso KG: \")\n",
    "altura = input(\"altura M: \")\n",
    "print(\"tu IMC es: \", round((float(peso)/(float(altura)*float(altura)))))"
   ]
  },
  {
   "cell_type": "raw",
   "id": "233ce1db-8209-4a8e-a540-ad7088f05af8",
   "metadata": {},
   "source": [
    "5. Escribe un programa que solicite la fecha de\n",
    "nacimiento de un usuario y calcule su edad actual"
   ]
  },
  {
   "cell_type": "code",
   "execution_count": null,
   "id": "d25c5071-6e3e-4aa7-8d00-d3b8862216f9",
   "metadata": {},
   "outputs": [],
   "source": []
  },
  {
   "cell_type": "raw",
   "id": "800dc1ce-49f7-44a1-9595-aa9e6b40a99e",
   "metadata": {},
   "source": [
    "6. Dado el radio de una circunferencia calcula su perímetro y área.\n",
    "Usad función math para usar pi"
   ]
  },
  {
   "cell_type": "code",
   "execution_count": null,
   "id": "e2e24568-0edb-47b0-b7e1-e406ec9f1880",
   "metadata": {},
   "outputs": [],
   "source": [
    "rad = float(input('indique el radio de la circunferencia:'))\n",
    "pero= 2*math.pi*rad\n",
    "area"
   ]
  },
  {
   "cell_type": "raw",
   "id": "f529c0f8-9f7a-4ad0-bc23-7cbf92591e45",
   "metadata": {},
   "source": [
    "7. Introduzca una palabra de más de 9 letras por teclado e\n",
    "imprima:\n",
    "- las tres primeras letras\n",
    "- las tres últimas letras\n",
    "- las situadas entre la 4º y 7º posición"
   ]
  },
  {
   "cell_type": "code",
   "execution_count": null,
   "id": "6e2d20d9-2ac3-484f-ac2f-f5908431d94d",
   "metadata": {},
   "outputs": [],
   "source": [
    "palabra=input(\"Introduzca una palabra de mas de 9 letras\")\n"
   ]
  },
  {
   "cell_type": "raw",
   "id": "6bedc5e1-b8c4-4f8a-8093-d39221037e15",
   "metadata": {},
   "source": [
    "8. Unha xoguetería ten moito éxito en dous dos seus produtos: pallasos e bonecas. Adoita facer venda por correo e a\n",
    "empresa de loxística cóbralles por peso de cada paquete así que deben calcular o peso dos pallasos e bonecas que sairán\n",
    "en cada paquete a demanda. Cada pallaso pesa 112 g e cada boneca 75 g. Escribir un programa que lea o número de\n",
    "pallasos e bonecas vendidos no último pedido e calcule o peso total en kg do paquete que será enviado e o prezo\n",
    "sendo a tarifa de 3,5 €/kg."
   ]
  }
 ],
 "metadata": {
  "kernelspec": {
   "display_name": "Python 3 (ipykernel)",
   "language": "python",
   "name": "python3"
  },
  "language_info": {
   "codemirror_mode": {
    "name": "ipython",
    "version": 3
   },
   "file_extension": ".py",
   "mimetype": "text/x-python",
   "name": "python",
   "nbconvert_exporter": "python",
   "pygments_lexer": "ipython3",
   "version": "3.11.3"
  }
 },
 "nbformat": 4,
 "nbformat_minor": 5
}
