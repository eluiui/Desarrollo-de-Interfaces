{
 "cells": [
  {
   "cell_type": "markdown",
   "id": "85f60d04-4855-4d5e-b5af-ae800f7b6651",
   "metadata": {},
   "source": [
    "<b>Ejercicios Funciones</b>"
   ]
  },
  {
   "cell_type": "raw",
   "id": "ca060a00-4a5f-4abc-8285-d9257421d155",
   "metadata": {},
   "source": [
    "1. Codifica un programa “Loterías” que conteña un\n",
    "menú que acceda as seguintes funcións:\n",
    "1. Un xerador de apostas da primitiva (6 números entre 1 e 49\n",
    "máis o complementario entre 1 e o 9).\n",
    "2. Xerador de Euromillóns (5 números entre 1 e 50 máis dous\n",
    "números “estrela” entre 1 e 9).\n",
    "3. Un xerador de apostas da quiniela de fútbol, 15 resultados\n",
    "entre 1,X,2.\n",
    "4. Un xerador de Lotería nacional. Un número entre o 00000 e o\n",
    "99999.\n",
    "Valorarase que o menú sexa outra función."
   ]
  },
  {
   "cell_type": "code",
   "execution_count": 4,
   "id": "40ad80a5-418e-4e76-8ffa-d01df7a47087",
   "metadata": {
    "tags": []
   },
   "outputs": [
    {
     "name": "stdout",
     "output_type": "stream",
     "text": [
      "1- Primitiva\n",
      "2- Euromillon\n",
      "3- Quiniela\n",
      "4- Nacional\n",
      "5- Salir\n"
     ]
    },
    {
     "name": "stdin",
     "output_type": "stream",
     "text": [
      "Elige una opcion:  3\n"
     ]
    },
    {
     "name": "stdout",
     "output_type": "stream",
     "text": [
      "[1, 'X', 1, 2, 1, 1, 'X', 'X', 2, 1, 2, 1, 2, 2, 'X']\n"
     ]
    }
   ],
   "source": [
    "import random\n",
    "random.seed()\n",
    "numeros = []\n",
    "\n",
    "def menu():\n",
    "    print(\"1- Primitiva\\n2- Euromillon\\n3- Quiniela\\n4- Nacional\\n5- Salir\")\n",
    "    opcion = int(input(\"Elige una opcion: \"))\n",
    "    \n",
    "    if opcion == 1:\n",
    "        primitiva()\n",
    "    elif opcion == 2:\n",
    "        euromillon()\n",
    "    elif opcion == 3:\n",
    "        quiniela()\n",
    "    elif opcion == 4:\n",
    "        nacional()\n",
    "    \n",
    "def primitiva():\n",
    "    i = 0\n",
    "    while(i != 6):\n",
    "        rand_num = random.randint(1,49)\n",
    "        if rand_num not in numeros:\n",
    "            numeros.append(rand_num)\n",
    "            i+=1\n",
    "    complementario = random.randint(1,9)\n",
    "    numeros.append(complementario)\n",
    "    \n",
    "def euromillon():\n",
    "    i = 0\n",
    "    while(i != 5):\n",
    "        rand_num = random.randint(1,50)\n",
    "        if rand_num not in numeros:\n",
    "            numeros.append(rand_num)\n",
    "            i+=1\n",
    "    estrella = random.randint(1,9)\n",
    "    estrella2 = random.randint(1,9)\n",
    "    numeros.append(estrella and estrella2)\n",
    "    \n",
    "def quiniela():\n",
    "    i = 0\n",
    "    while(i != 15):\n",
    "        resultado = random.randint(1,3)\n",
    "        if resultado == 3:\n",
    "            resultado = \"X\"\n",
    "        numeros.append(resultado)\n",
    "        i+=1\n",
    "    \n",
    "def nacional():\n",
    "    numeros.append(random.randint(0,99999))\n",
    "\n",
    "menu()\n",
    "print(numeros)"
   ]
  },
  {
   "cell_type": "raw",
   "id": "c37ad58e-c10d-4e09-b78f-4de665de457d",
   "metadata": {},
   "source": [
    "2. Lo anterior pero con archivos "
   ]
  },
  {
   "cell_type": "code",
   "execution_count": 5,
   "id": "0e08226a-3034-424b-849d-10d456fec16c",
   "metadata": {
    "tags": []
   },
   "outputs": [
    {
     "name": "stdout",
     "output_type": "stream",
     "text": [
      "1- Primitiva\n",
      "2- Euromillon\n",
      "3- Quiniela\n",
      "4- Nacional\n",
      "5- Salir\n"
     ]
    },
    {
     "name": "stdin",
     "output_type": "stream",
     "text": [
      "Elige una opcion:  4\n"
     ]
    },
    {
     "name": "stdout",
     "output_type": "stream",
     "text": [
      "[58568]\n"
     ]
    }
   ],
   "source": [
    "import random\n",
    "random.seed()\n",
    "numeros = []\n",
    "\n",
    "def menu():\n",
    "    print(\"1- Primitiva\\n2- Euromillon\\n3- Quiniela\\n4- Nacional\\n5- Salir\")\n",
    "    opcion = int(input(\"Elige una opcion: \"))\n",
    "    \n",
    "    if opcion == 1:\n",
    "        primitiva()\n",
    "    elif opcion == 2:\n",
    "        euromillon()\n",
    "    elif opcion == 3:\n",
    "        quiniela()\n",
    "    elif opcion == 4:\n",
    "        nacional()\n",
    "        \n",
    "    try:\n",
    "        with open (\"apuestas.txt\", \"w\") as archivo:\n",
    "            archivo.write(str(numeros))\n",
    "    except Exception as ex:\n",
    "        print(ex)\n",
    "        \n",
    "        try:\n",
    "            with open (\"apuestas.txt\", \"r\") as archivo:\n",
    "                contenido=archivo.read()\n",
    "                print(\"Contenido= \"+str(contenido))\n",
    "        except Exception as ex:\n",
    "            print(ex)\n",
    "    \n",
    "def primitiva():\n",
    "    i = 0\n",
    "    while(i != 6):\n",
    "        rand_num = random.randint(1,49)\n",
    "        if rand_num not in numeros:\n",
    "            numeros.append(rand_num)\n",
    "            i+=1\n",
    "    complementario = random.randint(1,9)\n",
    "    numeros.append(complementario)\n",
    "    \n",
    "def euromillon():\n",
    "    i = 0\n",
    "    while(i != 5):\n",
    "        rand_num = random.randint(1,50)\n",
    "        if rand_num not in numeros:\n",
    "            numeros.append(rand_num)\n",
    "            i+=1\n",
    "    estrella = random.randint(1,9)\n",
    "    estrella2 = random.randint(1,9)\n",
    "    numeros.append(estrella and estrella2)\n",
    "    \n",
    "def quiniela():\n",
    "    i = 0\n",
    "    while(i != 15):\n",
    "        resultado = random.randint(1,3)\n",
    "        if resultado == 3:\n",
    "            resultado = \"X\"\n",
    "        numeros.append(resultado)\n",
    "        i+=1\n",
    "    \n",
    "def nacional():\n",
    "    numeros.append(random.randint(0,99999))\n",
    "\n",
    "menu()\n",
    "print(numeros)"
   ]
  },
  {
   "cell_type": "code",
   "execution_count": null,
   "id": "5cd7153a-3c49-473c-8869-d889237dcf4a",
   "metadata": {},
   "outputs": [],
   "source": []
  }
 ],
 "metadata": {
  "kernelspec": {
   "display_name": "Python 3 (ipykernel)",
   "language": "python",
   "name": "python3"
  },
  "language_info": {
   "codemirror_mode": {
    "name": "ipython",
    "version": 3
   },
   "file_extension": ".py",
   "mimetype": "text/x-python",
   "name": "python",
   "nbconvert_exporter": "python",
   "pygments_lexer": "ipython3",
   "version": "3.11.3"
  }
 },
 "nbformat": 4,
 "nbformat_minor": 5
}
