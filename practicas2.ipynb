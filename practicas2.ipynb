{
 "cells": [
  {
   "cell_type": "markdown",
   "id": "23d8562f-4d5d-4e9f-bf33-645641f770f5",
   "metadata": {
    "tags": []
   },
   "source": [
    "#<b>Bloque 2 deejercicios Python</b>"
   ]
  },
  {
   "cell_type": "raw",
   "id": "323d4f65-3447-4b7c-99c2-1fa6da70b223",
   "metadata": {},
   "source": [
    "1. A conxetura de Collatz indica que calquera\n",
    "número natural pode transformarse en 1\n",
    "aplicando os pasos seguintes: si é par, dividir por\n",
    "2, se é impar multiplicar por 3 e sumarlle 1.\n",
    "Codifica un programa que pedindo un número\n",
    "mostre toda a sucesión de números resultantes\n",
    "ata convertilo en 1."
   ]
  },
  {
   "cell_type": "code",
   "execution_count": 10,
   "id": "8b6c35b2-e403-410a-a64d-0aeba8753306",
   "metadata": {
    "tags": []
   },
   "outputs": [
    {
     "name": "stdin",
     "output_type": "stream",
     "text": [
      "Indique un numero:  3\n"
     ]
    },
    {
     "name": "stdout",
     "output_type": "stream",
     "text": [
      "10\n",
      "5.0\n",
      "16\n",
      "8.0\n",
      "4.0\n",
      "2.0\n",
      "1.0\n"
     ]
    }
   ],
   "source": [
    "num = input(\"Indique un numero: \")\n",
    "\n",
    "while(num !=1):\n",
    "    if int(num)%2 == 0:\n",
    "        num=int(num)/2\n",
    "    else:\n",
    "        num=int(num)*3+1\n",
    "    print(num)    "
   ]
  },
  {
   "cell_type": "raw",
   "id": "a47277af-458c-415d-bd5d-cc59c92eb28e",
   "metadata": {},
   "source": [
    "2.Mastermind é un xogo que consiste en adiviñar un número.\n",
    "Codifica un programa que xenere un número entero\n",
    "aleatorio entre 1 e 100. A continuación iranos pedindo que\n",
    "adiviñemos o número. A axuda do programa será que si\n",
    "erramos diranos que o número que indicamos é maior ou\n",
    "menor que o que número aleatorio. Deberás incluir o\n",
    "número de intentos ao final da execución do programa.\n",
    "Ademáis, propoñer o programa para dous xogadores, e\n",
    "quen é o vencedor."
   ]
  },
  {
   "cell_type": "code",
   "execution_count": null,
   "id": "cbbc074b-bc34-4a78-93fb-5877e0040741",
   "metadata": {
    "tags": []
   },
   "outputs": [],
   "source": [
    "import random\n",
    "\n",
    "random.seed()\n",
    "numero = random.randint(1,100)\n",
    "print(\"Adivina entre 1 y 100\")\n",
    "adivina = 102\n",
    "intentos = 5\n",
    "\n",
    "while(adivina != numero and intentos > 0):\n",
    "    adivina = int(input(\"Intento \"+str(intentos)+\", escribe un numero\"))\n",
    "    \n",
    "    if adivina < numero:\n",
    "        print(\"El numero es mayor\")\n",
    "    elif adivina > numero:\n",
    "        print(\"El numero es menor\")\n",
    "    intentos = intentos-1\n",
    "if adivina == numero:\n",
    "    print(\"Ganaste!!\")\n",
    "else:\n",
    "    print(\"Intentalo de nuevo\")"
   ]
  },
  {
   "cell_type": "raw",
   "id": "68f9d5f8-32b7-4111-a7a9-0e02450afde9",
   "metadata": {},
   "source": [
    "3. Codificar un programa que nos pida un valor de temperatura é unha\n",
    "escala, por exemplo, 273 grados en escala Kelvin e posteriormente\n",
    "transforme dita temperatura nas outras escalas coñecidas, neste caso\n",
    "sería en Fahrenheit e Graos centígrados Centigrados.\n",
    "As fórmulas necesarias son:\n",
    "K = 273,1 + ºC\n",
    "ºF = 1,4 · ºC + 32"
   ]
  },
  {
   "cell_type": "code",
   "execution_count": null,
   "id": "4de52d7d-6e69-4f93-8085-335c53e074e6",
   "metadata": {},
   "outputs": [],
   "source": []
  },
  {
   "cell_type": "raw",
   "id": "f8acb6da-100c-4882-9097-d913a8c4cf33",
   "metadata": {},
   "source": [
    "4. Codifica un programa que simule unha partida ao 7 e medio coa\n",
    "baralla española entre dous xogadores. Para elo o programa\n",
    "sacara para cada xogador un número aleatorio entre 1 e 10 tendo\n",
    "en conta que o 8, 9 e 10 simularán a sota, cabalo e rei,\n",
    "respectivamente que no xogo do 7 e medio valen medio punto.\n",
    "Cada xogador pódese plantar cando queira e gañará o que máis\n",
    "se aproxime por debaixo ao 7 e medio.\n",
    "Por exemplo:\n",
    "O xogador A saca o 4 e 2 e a sota (8) ten 6 e medio e plántase.\n",
    "O xogador B saca o 4 e 5 e xa perde porque pasou de 7 e medio.\n",
    "Gaña o xogador A.\n",
    "Cada partida finalizada pregunta se queremos seguir ou deixar o\n",
    "xogo."
   ]
  },
  {
   "cell_type": "code",
   "execution_count": null,
   "id": "e2432faa-8b6e-43ea-8d6d-9fbe7e87175e",
   "metadata": {},
   "outputs": [],
   "source": []
  },
  {
   "cell_type": "raw",
   "id": "39423a0a-ca23-46ae-9422-14425ca18a58",
   "metadata": {},
   "source": [
    "5. Codifica un programa que permita calcular o\n",
    "factorial dun número introducido por teclado. O\n",
    "factorial dun número calcúlase da forma seguinte:\n",
    "n·(n-1)·(n-2)·....·1\n",
    "Tendo en conta o seguinte:\n",
    "Sé o número introducido e 0 o factorial é sempre 1.\n",
    "Se o número introducido é negativo ou decimal\n",
    "indícase mensaxe de erro ao usuario."
   ]
  },
  {
   "cell_type": "code",
   "execution_count": null,
   "id": "340f8208-c42d-47b5-9bd0-fa769a7fa437",
   "metadata": {},
   "outputs": [],
   "source": []
  },
  {
   "cell_type": "raw",
   "id": "2c342c14-d730-444f-a6c3-4906a1f495bf",
   "metadata": {},
   "source": [
    "6. Utilizando el algoritmo de Luhn determina si el número de\n",
    "un tarjeta de crédito es válido o no\n",
    "Algoritmo de Luhn.- Una tarjeta de crédito, o una tarjeta SIM, si suma de la reversa de los números pares x\n",
    "2 con la reversa de los números impares es un número acabado en 0. Ejemplo:\n",
    "- Número de ejemplo: 4 9 9 2 7 3 9 8 7 1 6\n",
    "- Se multiplica por 2 los dígitos que ocupan las posiciones pares empezando por el final:\n",
    " (1×2) = 2, (8×2) = 16, (3×2) = 6, (2×2) = 4, (9×2) = 18\n",
    "- Se suman los dígitos que ocupan las posiciones impares con los dígitos de los productos obtenidos:\n",
    "6 + (2) + 7 + (1+6) + 9 + (6) + 7 + (4) + 9 + (1+8) + 4 = 70.\n",
    "(1+6) es por la multiplicación de 8x2 y (1+8) es por la multiplicación de 9x2 del primer punto\n",
    "- Al ser 70, acabada en 0, es válido: 70 mod 10 = 0"
   ]
  },
  {
   "cell_type": "code",
   "execution_count": null,
   "id": "3b4efe6b-cf48-4adb-a358-bbf7572bb3cf",
   "metadata": {
    "tags": []
   },
   "outputs": [],
   "source": [
    "number=input(\"Escribe una cadena de 10 numeros: \")\n",
    "\n",
    "y=0\n",
    "cadena=\"\"\n",
    "\n",
    "for num in reversed(number):\n",
    "    if y%2 ==0:\n",
    "        \n",
    "        cadena=cadena+str(num*2)\n",
    "        \n",
    "print(cadena)"
   ]
  },
  {
   "cell_type": "raw",
   "id": "8bf0f66a-84a9-4d65-aad3-50f038f43c50",
   "metadata": {},
   "source": [
    "7. Generador de patrones con *\n",
    "Crea un programa que genere un patrón simple, como un triángulo de\n",
    "asteriscos, cuadrado o un rectángulo, basado en la elección del usuario"
   ]
  },
  {
   "cell_type": "code",
   "execution_count": null,
   "id": "2cf702c8-48b9-4bd0-b9fe-27009188841b",
   "metadata": {},
   "outputs": [],
   "source": []
  },
  {
   "cell_type": "raw",
   "id": "3bdba9fe-d345-41cb-9cc1-a4e450a8dede",
   "metadata": {},
   "source": [
    "8.Contador de vocales\n",
    "Escribe un programa que cuente cuántas vocales (mayúsculas y minúsculas)\n",
    "hay en una cadena de texto ingresada por el usuario."
   ]
  },
  {
   "cell_type": "code",
   "execution_count": null,
   "id": "b6a7cf4e-e075-44ed-8d76-213bba735bc4",
   "metadata": {},
   "outputs": [],
   "source": []
  }
 ],
 "metadata": {
  "kernelspec": {
   "display_name": "Python 3 (ipykernel)",
   "language": "python",
   "name": "python3"
  },
  "language_info": {
   "codemirror_mode": {
    "name": "ipython",
    "version": 3
   },
   "file_extension": ".py",
   "mimetype": "text/x-python",
   "name": "python",
   "nbconvert_exporter": "python",
   "pygments_lexer": "ipython3",
   "version": "3.11.3"
  }
 },
 "nbformat": 4,
 "nbformat_minor": 5
}
