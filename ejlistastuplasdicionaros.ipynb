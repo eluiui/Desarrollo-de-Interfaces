{
 "cells": [
  {
   "cell_type": "markdown",
   "id": "811fdc41-2c15-4212-bd09-47be58147348",
   "metadata": {},
   "source": [
    "#<b>Listas Tuplas Diccionarios</b>"
   ]
  },
  {
   "cell_type": "raw",
   "id": "0f168fbd-58ae-4985-9d5c-ee617cce11d6",
   "metadata": {},
   "source": [
    "1. Crea unha lista de N elementos, dato que se pide por\n",
    "teclado, e a continuación enchese de números enteiros \n",
    "aleatorios entre 1 e 10. Posteriormente mostra a lista e o \n",
    "número que máis se repite."
   ]
  },
  {
   "cell_type": "code",
   "execution_count": 12,
   "id": "5166b227-04ec-4f1b-9ccc-9e7c461e02c7",
   "metadata": {
    "tags": []
   },
   "outputs": [
    {
     "name": "stdin",
     "output_type": "stream",
     "text": [
      "Escribe el numero de elementos de la lista:  2\n"
     ]
    },
    {
     "name": "stdout",
     "output_type": "stream",
     "text": [
      "5\n",
      "2\n",
      "El mayor es: 5\n"
     ]
    }
   ],
   "source": [
    "import random\n",
    "from collections import Counter\n",
    "cantidad_numeros = input(\"Escribe el numero de elementos de la lista: \")\n",
    "\n",
    "random.seed()\n",
    "lista = []\n",
    "\n",
    "for i in range(int(cantidad_numeros)):\n",
    "    lista.append(random.randint(1,10))\n",
    "    print(lista[i])\n",
    "\n",
    "contador = Counter(lista)\n",
    "print(\"El mayor es: \"+str(max(contador, key=contador.get)))\n"
   ]
  },
  {
   "cell_type": "raw",
   "id": "3673acf3-ca76-4075-8c08-33c40b5219b2",
   "metadata": {},
   "source": [
    "2. Almacenar en dúas tuplas os nomes de 8\n",
    "empregados ou empregadas dunha empresa e dos\n",
    "seus salarios, respectivamente. A continuación:\n",
    "1. Mostrar a tupla dos nomes e a tupla dos\n",
    "salarios.\n",
    "2. Mostrar o nome dos empregados con maior e\n",
    "do menor salario."
   ]
  },
  {
   "cell_type": "code",
   "execution_count": 11,
   "id": "0d0584da-e7e6-488d-b046-c066e54929f2",
   "metadata": {
    "tags": []
   },
   "outputs": [
    {
     "name": "stdout",
     "output_type": "stream",
     "text": [
      "Empleado: Pedro salario: 12000\n",
      "Empleado: Juan salario: 10500\n",
      "Empleado: Manolo salario: 6700\n",
      "Empleado: Alfredo salario: 14000\n",
      "Empleado: Lisa salario: 9850\n",
      "El empleado con el salario mayor es:  Alfredo  que gana  14000 €\n",
      "El empleado con el salario mas bajo es:  Manolo  que gana  6700 €\n"
     ]
    }
   ],
   "source": [
    "from collections import Counter\n",
    "\n",
    "empleados = ('Pedro', 'Juan', 'Manolo', 'Alfredo', 'Lisa')\n",
    "salarios = (12000, 10500, 6700, 14000, 9850)\n",
    "\n",
    "for i in range(len(empleados)):\n",
    "    print(\"Empleado: \"+empleados[i]+\" salario: \"+str(salarios[i]))\n",
    "    \n",
    "resultado = 0\n",
    "posicion = 0\n",
    "    \n",
    "for i, salario in enumerate(salarios):\n",
    "    if salario > resultado:\n",
    "        resultado = salario\n",
    "        posicion = i\n",
    "        \n",
    "print(\"El empleado con el salario mayor es: \", empleados[posicion], \" que gana \", resultado, \"€\")\n",
    "\n",
    "resultado = 10000000\n",
    "posicion = 0\n",
    "        \n",
    "for i, salario in enumerate(salarios):\n",
    "    if salario < resultado:\n",
    "        resultado = salario\n",
    "        posicion = i\n",
    "    \n",
    "\n",
    "print(\"El empleado con el salario mas bajo es: \", empleados[posicion], \" que gana \", resultado, \"€\")"
   ]
  },
  {
   "cell_type": "raw",
   "id": "d1365125-7d75-4170-a6f1-543e3bb2131f",
   "metadata": {},
   "source": [
    "3. Codifica unha función que reciba unha cantidade de N\n",
    "iteracións solicitadas por teclado onde cada una\n",
    "representen a suma dunha tirada de 2 dados.\n",
    "A continuación, grava os resultados nun dicionario\n",
    "da forma o seguinte:\n",
    "Resultado = {‘Dos’: 3, ‘Tres’: 1, …,’Doce’:3}\n",
    "Onde 3, 1 e 4 representen o número de veces que sae\n",
    "cada valor. Mostrar por pantalla"
   ]
  },
  {
   "cell_type": "code",
   "execution_count": 2,
   "id": "42962863-1181-492d-a946-3838c2ccdd3f",
   "metadata": {
    "tags": []
   },
   "outputs": [
    {
     "name": "stdin",
     "output_type": "stream",
     "text": [
      "Times:  1000000000\n"
     ]
    },
    {
     "name": "stdout",
     "output_type": "stream",
     "text": [
      "{8: 138891155, 9: 111136477, 2: 27774531, 4: 83332868, 11: 55544176, 5: 111103030, 6: 138901448, 10: 83321639, 3: 55577563, 7: 166631706, 12: 27785407}\n"
     ]
    }
   ],
   "source": [
    "import random\n",
    "\n",
    "times = int(input(\"Times: \"))\n",
    "dic = dict()\n",
    "\n",
    "def iterations(var):\n",
    "    for x in range(var):\n",
    "        rand = random.randint(1,6) + random.randint(1,6)\n",
    "        dic[rand] = dic.get(rand, 0) + 1\n",
    "    \n",
    "iterations(times)\n",
    "print(dic)"
   ]
  },
  {
   "cell_type": "raw",
   "id": "64025add-c3b4-4406-8369-10b123240490",
   "metadata": {},
   "source": [
    "4. Constrúe unha dicionario que almacene\n",
    "as temperaturas das cidades galegas de\n",
    "Vigo, A Coruña, Ourense, Pontevedra,\n",
    "Lugo e Ferrol.\n",
    "A continuación, solicita por teclado una\n",
    "cidad e modificar o seu valor de\n",
    "temperatura"
   ]
  },
  {
   "cell_type": "code",
   "execution_count": null,
   "id": "fc2ce9d8-d426-433c-91e3-9bf69ced7770",
   "metadata": {
    "tags": []
   },
   "outputs": [
    {
     "name": "stdin",
     "output_type": "stream",
     "text": [
      "Escribe la ciudad que quieres modificar:  Coruña\n",
      "Escribe el valor a modificar:  440\n"
     ]
    },
    {
     "name": "stdout",
     "output_type": "stream",
     "text": [
      "{'Vigo': 0, 'Coruña': '440', 'Orense': 0, 'Pontevedra': 0, 'Lugo': 0, 'Ferrol': 0}\n"
     ]
    }
   ],
   "source": [
    "temperaturas = {'Vigo': 0, 'Coruña': 0, 'Orense': 0, 'Pontevedra': 0, 'Lugo': 0, 'Ferrol': 0}\n",
    "\n",
    "for i in range(10):\n",
    "    ciudad = input(\"Escribe la ciudad que quieres modificar: \")\n",
    "    valor = input(\"Escribe el valor a modificar: \")\n",
    "    \n",
    "    temperaturas[ciudad] = valor\n",
    "    \n",
    "    print(temperaturas)"
   ]
  },
  {
   "cell_type": "code",
   "execution_count": null,
   "id": "bae5c092-6ac9-4e4c-bd53-bde763255394",
   "metadata": {},
   "outputs": [],
   "source": []
  }
 ],
 "metadata": {
  "kernelspec": {
   "display_name": "Python 3 (ipykernel)",
   "language": "python",
   "name": "python3"
  },
  "language_info": {
   "codemirror_mode": {
    "name": "ipython",
    "version": 3
   },
   "file_extension": ".py",
   "mimetype": "text/x-python",
   "name": "python",
   "nbconvert_exporter": "python",
   "pygments_lexer": "ipython3",
   "version": "3.11.3"
  }
 },
 "nbformat": 4,
 "nbformat_minor": 5
}
